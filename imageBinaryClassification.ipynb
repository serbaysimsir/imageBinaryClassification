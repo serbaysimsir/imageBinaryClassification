{
  "nbformat": 4,
  "nbformat_minor": 0,
  "metadata": {
    "colab": {
      "name": "emre_demir.ipynb",
      "provenance": [],
      "machine_shape": "hm"
    },
    "kernelspec": {
      "name": "python3",
      "display_name": "Python 3"
    },
    "accelerator": "GPU"
  },
  "cells": [
    {
      "cell_type": "markdown",
      "metadata": {
        "id": "osZw7VRSQ25Y",
        "colab_type": "text"
      },
      "source": [
        "* Veri Seti Linki : ..."
      ]
    },
    {
      "cell_type": "markdown",
      "metadata": {
        "id": "As8EdvOecw0K",
        "colab_type": "text"
      },
      "source": [
        "* Google colab'da driveda çalışmak için gerekli kodu yazdım."
      ]
    },
    {
      "cell_type": "code",
      "metadata": {
        "id": "iD-wlS_rQooV",
        "colab_type": "code",
        "colab": {
          "base_uri": "https://localhost:8080/",
          "height": 34
        },
        "outputId": "b78a0fdf-4a3b-4869-9df5-1cf53268d338"
      },
      "source": [
        "from google.colab import drive\n",
        "drive.mount('/content/gdrive')"
      ],
      "execution_count": 1,
      "outputs": [
        {
          "output_type": "stream",
          "text": [
            "Drive already mounted at /content/gdrive; to attempt to forcibly remount, call drive.mount(\"/content/gdrive\", force_remount=True).\n"
          ],
          "name": "stdout"
        }
      ]
    },
    {
      "cell_type": "markdown",
      "metadata": {
        "id": "y1pJMHUNdClt",
        "colab_type": "text"
      },
      "source": [
        "* Keras kütüphanesini import ettim"
      ]
    },
    {
      "cell_type": "code",
      "metadata": {
        "id": "Xlckgm3PRPiB",
        "colab_type": "code",
        "colab": {
          "base_uri": "https://localhost:8080/",
          "height": 34
        },
        "outputId": "3d545ef8-3129-4b78-fab9-93e6a26324b2"
      },
      "source": [
        "import keras"
      ],
      "execution_count": 2,
      "outputs": [
        {
          "output_type": "stream",
          "text": [
            "Using TensorFlow backend.\n"
          ],
          "name": "stderr"
        }
      ]
    },
    {
      "cell_type": "markdown",
      "metadata": {
        "id": "I90IcUnadFTj",
        "colab_type": "text"
      },
      "source": [
        "* Verilerimin uzantısını değişkenlerde tutuyorum"
      ]
    },
    {
      "cell_type": "code",
      "metadata": {
        "id": "F84V98YzR6Nf",
        "colab_type": "code",
        "colab": {}
      },
      "source": [
        "train_dir = \"/content/gdrive/My Drive/dataset/train\"\n",
        "validation_dir = \"/content/gdrive/My Drive/dataset/validation\"\n",
        "test_dir = \"/content/gdrive/My Drive/dataset/test\""
      ],
      "execution_count": 0,
      "outputs": []
    },
    {
      "cell_type": "markdown",
      "metadata": {
        "id": "YdUB6tBDdSZI",
        "colab_type": "text"
      },
      "source": [
        "* Eğitim ve validasyon verilerimi image data genarator fonksiyonu ile okudum.\n",
        "* Görüntülerimin piksellerini 0 ile 1 arasına alarak normalize ettim.\n",
        "* Verilerimin boyutunu, ayırması gereken batch boyutunu ve sınıf tipini belirttim."
      ]
    },
    {
      "cell_type": "code",
      "metadata": {
        "id": "bksdDll2Rc_W",
        "colab_type": "code",
        "colab": {
          "base_uri": "https://localhost:8080/",
          "height": 51
        },
        "outputId": "ca69af33-9eea-45f4-b1e7-4164346732b4"
      },
      "source": [
        "from keras.preprocessing.image import ImageDataGenerator\n",
        "train_datagen = ImageDataGenerator(rescale=1./255)\n",
        "validation_datagen = ImageDataGenerator(rescale=1./255)\n",
        "train_generator = train_datagen.flow_from_directory(\n",
        "        train_dir,\n",
        "        batch_size=20,\n",
        "        target_size=(300, 300),\n",
        "        class_mode='binary')\n",
        "validation_generator = validation_datagen.flow_from_directory(\n",
        "        validation_dir,\n",
        "        batch_size=20,\n",
        "        target_size=(300, 300),\n",
        "        class_mode='binary')"
      ],
      "execution_count": 4,
      "outputs": [
        {
          "output_type": "stream",
          "text": [
            "Found 226 images belonging to 2 classes.\n",
            "Found 56 images belonging to 2 classes.\n"
          ],
          "name": "stdout"
        }
      ]
    },
    {
      "cell_type": "markdown",
      "metadata": {
        "id": "_gnY3PVdeAdD",
        "colab_type": "text"
      },
      "source": [
        "* Modelimizi sıralı bir şekilde oluşturuyoruz.\n",
        "* İlk katman olarak girişi 300x300 pikselli 3 kanallı olduğunu bildiriyoruz.\n",
        "* CNN katmanlarında strides'i 2x2 olarak belirttim. padding ile boyuttaki azalmanın yarı yarıya oluşunu sağladım.\n",
        "* Çıkışı oluşturabilmemiz için 3 kanalı tek kanala düşürmemiz gerekiyor. Bunun için flatten kullanıyoruz.\n",
        "* Flatten ile düzleştirdikten sonra tam bağımlı katmandan geçiriyoruz.\n",
        "* Tahmini 0 ile 1 arasında oluşturmak için sigmoid aktivasyon fonksiyonu ile çıkış katmanını oluşturuyoruz."
      ]
    },
    {
      "cell_type": "code",
      "metadata": {
        "id": "vT5MBG9tTFSc",
        "colab_type": "code",
        "colab": {}
      },
      "source": [
        "from keras import layers\n",
        "from keras import models\n",
        "model = models.Sequential()\n",
        "model.add(layers.Conv2D(16, (3, 3), strides=(2, 2), activation='relu', padding=\"same\", input_shape=(300, 300, 3)))\n",
        "model.add(layers.MaxPooling2D((2, 2)))\n",
        "model.add(layers.Conv2D(32, (3, 3), strides=(2, 2), padding=\"same\", activation='relu'))\n",
        "model.add(layers.MaxPooling2D((2, 2)))\n",
        "model.add(layers.Conv2D(64, (3, 3), strides=(2, 2), padding=\"same\", activation='relu'))\n",
        "model.add(layers.MaxPooling2D((2, 2)))\n",
        "model.add(layers.Conv2D(128, (3, 3), strides=(2, 2), padding=\"same\", activation='relu'))\n",
        "model.add(layers.MaxPooling2D((2, 2)))\n",
        "model.add(layers.Flatten())\n",
        "model.add(layers.Dense(512, activation='relu'))\n",
        "model.add(layers.Dense(1, activation='sigmoid'))"
      ],
      "execution_count": 0,
      "outputs": []
    },
    {
      "cell_type": "markdown",
      "metadata": {
        "id": "A3cfnJQce2y6",
        "colab_type": "text"
      },
      "source": [
        "* Oluşturduğumuz modelin iç yapısını ve her katmanın çıkışını görmek için modelin özetine bakıyoruz."
      ]
    },
    {
      "cell_type": "code",
      "metadata": {
        "id": "yg9kX66VUq3A",
        "colab_type": "code",
        "colab": {
          "base_uri": "https://localhost:8080/",
          "height": 527
        },
        "outputId": "965b0ad7-66d7-4ab5-d706-a8e89d250b92"
      },
      "source": [
        "model.summary()"
      ],
      "execution_count": 6,
      "outputs": [
        {
          "output_type": "stream",
          "text": [
            "Model: \"sequential_1\"\n",
            "_________________________________________________________________\n",
            "Layer (type)                 Output Shape              Param #   \n",
            "=================================================================\n",
            "conv2d_1 (Conv2D)            (None, 150, 150, 16)      448       \n",
            "_________________________________________________________________\n",
            "max_pooling2d_1 (MaxPooling2 (None, 75, 75, 16)        0         \n",
            "_________________________________________________________________\n",
            "conv2d_2 (Conv2D)            (None, 38, 38, 32)        4640      \n",
            "_________________________________________________________________\n",
            "max_pooling2d_2 (MaxPooling2 (None, 19, 19, 32)        0         \n",
            "_________________________________________________________________\n",
            "conv2d_3 (Conv2D)            (None, 10, 10, 64)        18496     \n",
            "_________________________________________________________________\n",
            "max_pooling2d_3 (MaxPooling2 (None, 5, 5, 64)          0         \n",
            "_________________________________________________________________\n",
            "conv2d_4 (Conv2D)            (None, 3, 3, 128)         73856     \n",
            "_________________________________________________________________\n",
            "max_pooling2d_4 (MaxPooling2 (None, 1, 1, 128)         0         \n",
            "_________________________________________________________________\n",
            "flatten_1 (Flatten)          (None, 128)               0         \n",
            "_________________________________________________________________\n",
            "dense_1 (Dense)              (None, 512)               66048     \n",
            "_________________________________________________________________\n",
            "dense_2 (Dense)              (None, 1)                 513       \n",
            "=================================================================\n",
            "Total params: 164,001\n",
            "Trainable params: 164,001\n",
            "Non-trainable params: 0\n",
            "_________________________________________________________________\n"
          ],
          "name": "stdout"
        }
      ]
    },
    {
      "cell_type": "markdown",
      "metadata": {
        "id": "Y2POnP10fCH9",
        "colab_type": "text"
      },
      "source": [
        "* Modeli oluşturduktan sonra kullanacağımız loss fonksiyonu, optimizer ve metriği verdim.\n",
        "* İkili sınıflandırma yaptığımızdan dolayı loss fonksiyonu olarak binary_crossentropy kullandım.\n",
        "* Rmsprop genel olarak iyi sonuçlar verdiği için optimizer olarak onu kullanmayı tercih ettim. Learning rate olarak 0.001'i uygun gördüm.\n",
        "* Metrik olarak accuracy'i tercih ettim."
      ]
    },
    {
      "cell_type": "code",
      "metadata": {
        "id": "3LlBRQ-jVihq",
        "colab_type": "code",
        "colab": {}
      },
      "source": [
        "from keras import optimizers\n",
        "model.compile(loss='binary_crossentropy', optimizer=optimizers.RMSprop(lr=0.001), metrics=['acc'])"
      ],
      "execution_count": 0,
      "outputs": []
    },
    {
      "cell_type": "markdown",
      "metadata": {
        "id": "w8QvI-MCfTgc",
        "colab_type": "text"
      },
      "source": [
        "* Verilerimi image date generator ile okuduğumdan dolayı model.fit yerine model.fit_generator ile eğittim.\n",
        "* Epoch sayısını 30 olarak verdim."
      ]
    },
    {
      "cell_type": "code",
      "metadata": {
        "id": "7LtIYtTzW7GZ",
        "colab_type": "code",
        "colab": {
          "base_uri": "https://localhost:8080/",
          "height": 1000
        },
        "outputId": "b66f07e0-a9b2-4ecf-c6a1-fe70e79baa56"
      },
      "source": [
        "history = model.fit_generator(\n",
        "      train_generator,\n",
        "      epochs=30,\n",
        "      validation_data=validation_generator)"
      ],
      "execution_count": 8,
      "outputs": [
        {
          "output_type": "stream",
          "text": [
            "Epoch 1/30\n",
            "12/12 [==============================] - 2s 176ms/step - loss: 0.7008 - acc: 0.5619 - val_loss: 0.6640 - val_acc: 0.7857\n",
            "Epoch 2/30\n",
            "12/12 [==============================] - 1s 87ms/step - loss: 0.5893 - acc: 0.6814 - val_loss: 0.8539 - val_acc: 0.6250\n",
            "Epoch 3/30\n",
            "12/12 [==============================] - 1s 88ms/step - loss: 0.5310 - acc: 0.7434 - val_loss: 0.4886 - val_acc: 0.7679\n",
            "Epoch 4/30\n",
            "12/12 [==============================] - 1s 87ms/step - loss: 0.4304 - acc: 0.8053 - val_loss: 0.3003 - val_acc: 0.7857\n",
            "Epoch 5/30\n",
            "12/12 [==============================] - 1s 86ms/step - loss: 0.4121 - acc: 0.8009 - val_loss: 0.6023 - val_acc: 0.7500\n",
            "Epoch 6/30\n",
            "12/12 [==============================] - 1s 87ms/step - loss: 0.3677 - acc: 0.8230 - val_loss: 0.2088 - val_acc: 0.8571\n",
            "Epoch 7/30\n",
            "12/12 [==============================] - 1s 87ms/step - loss: 0.3588 - acc: 0.8451 - val_loss: 0.2297 - val_acc: 0.8571\n",
            "Epoch 8/30\n",
            "12/12 [==============================] - 1s 86ms/step - loss: 0.3507 - acc: 0.8540 - val_loss: 0.2614 - val_acc: 0.8750\n",
            "Epoch 9/30\n",
            "12/12 [==============================] - 1s 87ms/step - loss: 0.2821 - acc: 0.8540 - val_loss: 0.7224 - val_acc: 0.5893\n",
            "Epoch 10/30\n",
            "12/12 [==============================] - 1s 85ms/step - loss: 0.4223 - acc: 0.8363 - val_loss: 0.1688 - val_acc: 0.8393\n",
            "Epoch 11/30\n",
            "12/12 [==============================] - 1s 87ms/step - loss: 0.2880 - acc: 0.8673 - val_loss: 0.3021 - val_acc: 0.8929\n",
            "Epoch 12/30\n",
            "12/12 [==============================] - 1s 86ms/step - loss: 0.3106 - acc: 0.8850 - val_loss: 0.5232 - val_acc: 0.8750\n",
            "Epoch 13/30\n",
            "12/12 [==============================] - 1s 88ms/step - loss: 0.2539 - acc: 0.8717 - val_loss: 0.3661 - val_acc: 0.8750\n",
            "Epoch 14/30\n",
            "12/12 [==============================] - 1s 87ms/step - loss: 0.3451 - acc: 0.9071 - val_loss: 0.2023 - val_acc: 0.8750\n",
            "Epoch 15/30\n",
            "12/12 [==============================] - 1s 87ms/step - loss: 0.1792 - acc: 0.9292 - val_loss: 0.0817 - val_acc: 0.8750\n",
            "Epoch 16/30\n",
            "12/12 [==============================] - 1s 85ms/step - loss: 0.1920 - acc: 0.9292 - val_loss: 0.4322 - val_acc: 0.8929\n",
            "Epoch 17/30\n",
            "12/12 [==============================] - 1s 88ms/step - loss: 0.2033 - acc: 0.9292 - val_loss: 0.1252 - val_acc: 0.8750\n",
            "Epoch 18/30\n",
            "12/12 [==============================] - 1s 89ms/step - loss: 0.1362 - acc: 0.9425 - val_loss: 0.3553 - val_acc: 0.8750\n",
            "Epoch 19/30\n",
            "12/12 [==============================] - 1s 85ms/step - loss: 0.1056 - acc: 0.9646 - val_loss: 0.6956 - val_acc: 0.8393\n",
            "Epoch 20/30\n",
            "12/12 [==============================] - 1s 88ms/step - loss: 0.1751 - acc: 0.9159 - val_loss: 0.1005 - val_acc: 0.8571\n",
            "Epoch 21/30\n",
            "12/12 [==============================] - 1s 88ms/step - loss: 0.0470 - acc: 0.9867 - val_loss: 0.5353 - val_acc: 0.8929\n",
            "Epoch 22/30\n",
            "12/12 [==============================] - 1s 88ms/step - loss: 0.0783 - acc: 0.9646 - val_loss: 0.5455 - val_acc: 0.9107\n",
            "Epoch 23/30\n",
            "12/12 [==============================] - 1s 86ms/step - loss: 0.0992 - acc: 0.9425 - val_loss: 0.2629 - val_acc: 0.8214\n",
            "Epoch 24/30\n",
            "12/12 [==============================] - 1s 87ms/step - loss: 0.0248 - acc: 0.9956 - val_loss: 0.2542 - val_acc: 0.8214\n",
            "Epoch 25/30\n",
            "12/12 [==============================] - 1s 88ms/step - loss: 0.0940 - acc: 0.9690 - val_loss: 0.5883 - val_acc: 0.8571\n",
            "Epoch 26/30\n",
            "12/12 [==============================] - 1s 87ms/step - loss: 0.0127 - acc: 1.0000 - val_loss: 0.4951 - val_acc: 0.8393\n",
            "Epoch 27/30\n",
            "12/12 [==============================] - 1s 85ms/step - loss: 0.1574 - acc: 0.9558 - val_loss: 0.5083 - val_acc: 0.8214\n",
            "Epoch 28/30\n",
            "12/12 [==============================] - 1s 88ms/step - loss: 0.0163 - acc: 1.0000 - val_loss: 0.3514 - val_acc: 0.8571\n",
            "Epoch 29/30\n",
            "12/12 [==============================] - 1s 86ms/step - loss: 0.0048 - acc: 1.0000 - val_loss: 0.7432 - val_acc: 0.8393\n",
            "Epoch 30/30\n",
            "12/12 [==============================] - 1s 87ms/step - loss: 0.0030 - acc: 1.0000 - val_loss: 0.5257 - val_acc: 0.8393\n"
          ],
          "name": "stdout"
        }
      ]
    },
    {
      "cell_type": "markdown",
      "metadata": {
        "id": "DxpCXIxIZgJA",
        "colab_type": "text"
      },
      "source": [
        "* Eğitimimizin durumunu görmek için matplotlib kütüphanesi ile eğitim ve validasyonumuz için başarım ve kaybın görselleştirmesini yapıyoruz.\n",
        "\n",
        "\n"
      ]
    },
    {
      "cell_type": "code",
      "metadata": {
        "id": "5cCqc-t1XaxL",
        "colab_type": "code",
        "colab": {
          "base_uri": "https://localhost:8080/",
          "height": 545
        },
        "outputId": "aa186d06-90fa-476f-92d5-e1a9124e0162"
      },
      "source": [
        "import matplotlib.pyplot as plt\n",
        "acc = history.history['acc']\n",
        "val_acc = history.history['val_acc']\n",
        "loss = history.history['loss']\n",
        "val_loss = history.history['val_loss']\n",
        "epochs = range(len(acc))\n",
        "plt.plot(epochs, acc, 'bo', label='Eğitim başarımı')\n",
        "plt.plot(epochs, val_acc, 'b', label='Validasyon başarımı')\n",
        "plt.title('Eğitim ve validasyon başarımı')\n",
        "plt.legend()\n",
        "plt.figure()\n",
        "plt.plot(epochs, loss, 'bo', label='Eğitim kaybı')\n",
        "plt.plot(epochs, val_loss, 'b', label='Validasyon kaybı')\n",
        "plt.title('Eğitim ve validasyon kaybı')\n",
        "plt.legend()\n",
        "plt.show()"
      ],
      "execution_count": 9,
      "outputs": [
        {
          "output_type": "display_data",
          "data": {
            "image/png": "[encoded data removed]",
            "text/plain": [
              "<Figure size 432x288 with 1 Axes>"
            ]
          },
          "metadata": {
            "tags": [],
            "needs_background": "light"
          }
        },
        {
          "output_type": "display_data",
          "data": {
            "image/png": "[encoded data removed]",
            "text/plain": [
              "<Figure size 432x288 with 1 Axes>"
            ]
          },
          "metadata": {
            "tags": [],
            "needs_background": "light"
          }
        }
      ]
    },
    {
      "cell_type": "markdown",
      "metadata": {
        "id": "U1tpVD-kZ5yR",
        "colab_type": "text"
      },
      "source": [
        "* Grafiklerde eğitim verileri üzerindeki aşırı öğrenme yani ezberi görebiliyoruz. eğitin verileri üzerindeki başarım %100ü bulurken validasyon verileri üzerindeki başarım daha düşüktür.\n",
        "* Loss grafiğinde de aynı şeyleri görebiliriz. Eğitim kaybı düşerken validasyon kaybı aynı şekilde düşmemiştir. \n",
        "* Başarım ve kayıp verilerine göre eğitimi 12.-13. epochta kesmek mantıklıdır."
      ]
    },
    {
      "cell_type": "markdown",
      "metadata": {
        "id": "2mlWT4p2gH5C",
        "colab_type": "text"
      },
      "source": [
        "# **İKİNCİ ADIM: Data augmentation yöntemi ile deney tekrarı**\n",
        "* Eğitim verilerini tekrardan bu sefer veri seti büyütme yöntemi ile tekrardan okudum.\n",
        "* Verileri ters çevirme, zoomlama, yön değiştirme gibi veri seti büyütme yöntemleri ile okudum."
      ]
    },
    {
      "cell_type": "code",
      "metadata": {
        "id": "SV2Di0V4Y7LQ",
        "colab_type": "code",
        "colab": {
          "base_uri": "https://localhost:8080/",
          "height": 34
        },
        "outputId": "ec5196f6-c31a-4b28-dee4-f079503b1e8f"
      },
      "source": [
        "train_datagen = ImageDataGenerator(\n",
        "    rescale=1./255,\n",
        "    rotation_range=40,\n",
        "    width_shift_range=0.2,\n",
        "    height_shift_range=0.2,\n",
        "    shear_range=0.2,\n",
        "    zoom_range=0.2,\n",
        "    horizontal_flip=True)\n",
        "train_generator = train_datagen.flow_from_directory(\n",
        "        train_dir,\n",
        "        target_size=(300, 300),\n",
        "        batch_size=20,\n",
        "        class_mode='binary')"
      ],
      "execution_count": 10,
      "outputs": [
        {
          "output_type": "stream",
          "text": [
            "Found 226 images belonging to 2 classes.\n"
          ],
          "name": "stdout"
        }
      ]
    },
    {
      "cell_type": "markdown",
      "metadata": {
        "id": "ItbD6rmgiUvT",
        "colab_type": "text"
      },
      "source": [
        "* Modelin ağırlıklarını eğitim öncesi haline getirmek için baştan oluşturuyorum."
      ]
    },
    {
      "cell_type": "code",
      "metadata": {
        "id": "Xrm1LlYaiR2e",
        "colab_type": "code",
        "colab": {}
      },
      "source": [
        "from keras import layers\n",
        "from keras import models\n",
        "model = models.Sequential()\n",
        "model.add(layers.Conv2D(16, (3, 3), strides=(2, 2), activation='relu', padding=\"same\", input_shape=(300, 300, 3)))\n",
        "model.add(layers.MaxPooling2D((2, 2)))\n",
        "model.add(layers.Conv2D(32, (3, 3), strides=(2, 2), padding=\"same\", activation='relu'))\n",
        "model.add(layers.MaxPooling2D((2, 2)))\n",
        "model.add(layers.Conv2D(64, (3, 3), strides=(2, 2), padding=\"same\", activation='relu'))\n",
        "model.add(layers.MaxPooling2D((2, 2)))\n",
        "model.add(layers.Conv2D(128, (3, 3), strides=(2, 2), padding=\"same\", activation='relu'))\n",
        "model.add(layers.MaxPooling2D((2, 2)))\n",
        "model.add(layers.Flatten())\n",
        "model.add(layers.Dense(512, activation='relu'))\n",
        "model.add(layers.Dense(1, activation='sigmoid'))"
      ],
      "execution_count": 0,
      "outputs": []
    },
    {
      "cell_type": "markdown",
      "metadata": {
        "id": "lfRGZ_mFim-7",
        "colab_type": "text"
      },
      "source": [
        "* Sıfırlanan model için gerekli fonksiyonları tekrardan aynı şekilde veriyorum."
      ]
    },
    {
      "cell_type": "code",
      "metadata": {
        "id": "CxjdUH5cieSo",
        "colab_type": "code",
        "colab": {}
      },
      "source": [
        "from keras import optimizers\n",
        "model.compile(loss='binary_crossentropy', optimizer=optimizers.RMSprop(lr=0.001), metrics=['acc'])"
      ],
      "execution_count": 0,
      "outputs": []
    },
    {
      "cell_type": "markdown",
      "metadata": {
        "id": "CcdNqNDBitkl",
        "colab_type": "text"
      },
      "source": [
        "* Veri seti büyütme yöntemi kullandığım eğitim verileri ile modeli tekrar eğitiyorum."
      ]
    },
    {
      "cell_type": "code",
      "metadata": {
        "id": "gk02x1omis2P",
        "colab_type": "code",
        "colab": {
          "base_uri": "https://localhost:8080/",
          "height": 1000
        },
        "outputId": "51629eeb-d631-4295-ad70-1ac90a911b58"
      },
      "source": [
        "history = model.fit_generator(\n",
        "      train_generator,\n",
        "      epochs=30,\n",
        "      validation_data=validation_generator)"
      ],
      "execution_count": 13,
      "outputs": [
        {
          "output_type": "stream",
          "text": [
            "Epoch 1/30\n",
            "12/12 [==============================] - 5s 425ms/step - loss: 0.6993 - acc: 0.5575 - val_loss: 0.6335 - val_acc: 0.7679\n",
            "Epoch 2/30\n",
            "12/12 [==============================] - 5s 420ms/step - loss: 0.5115 - acc: 0.7743 - val_loss: 0.4207 - val_acc: 0.8571\n",
            "Epoch 3/30\n",
            "12/12 [==============================] - 5s 421ms/step - loss: 0.4253 - acc: 0.7965 - val_loss: 0.3811 - val_acc: 0.8750\n",
            "Epoch 4/30\n",
            "12/12 [==============================] - 5s 419ms/step - loss: 0.4779 - acc: 0.7832 - val_loss: 0.5358 - val_acc: 0.8214\n",
            "Epoch 5/30\n",
            "12/12 [==============================] - 5s 416ms/step - loss: 0.4148 - acc: 0.8407 - val_loss: 0.6394 - val_acc: 0.8393\n",
            "Epoch 6/30\n",
            "12/12 [==============================] - 5s 418ms/step - loss: 0.4634 - acc: 0.8053 - val_loss: 0.3382 - val_acc: 0.8571\n",
            "Epoch 7/30\n",
            "12/12 [==============================] - 5s 416ms/step - loss: 0.3698 - acc: 0.8451 - val_loss: 0.2973 - val_acc: 0.8393\n",
            "Epoch 8/30\n",
            "12/12 [==============================] - 5s 422ms/step - loss: 0.4533 - acc: 0.8230 - val_loss: 0.2706 - val_acc: 0.8571\n",
            "Epoch 9/30\n",
            "12/12 [==============================] - 5s 424ms/step - loss: 0.3715 - acc: 0.8673 - val_loss: 0.1833 - val_acc: 0.8929\n",
            "Epoch 10/30\n",
            "12/12 [==============================] - 5s 428ms/step - loss: 0.4370 - acc: 0.8186 - val_loss: 0.3150 - val_acc: 0.7679\n",
            "Epoch 11/30\n",
            "12/12 [==============================] - 5s 417ms/step - loss: 0.3851 - acc: 0.8142 - val_loss: 0.2809 - val_acc: 0.8929\n",
            "Epoch 12/30\n",
            "12/12 [==============================] - 5s 420ms/step - loss: 0.3628 - acc: 0.8407 - val_loss: 0.1988 - val_acc: 0.8750\n",
            "Epoch 13/30\n",
            "12/12 [==============================] - 5s 419ms/step - loss: 0.3441 - acc: 0.8540 - val_loss: 0.2162 - val_acc: 0.9286\n",
            "Epoch 14/30\n",
            "12/12 [==============================] - 5s 420ms/step - loss: 0.3680 - acc: 0.8407 - val_loss: 0.3951 - val_acc: 0.8036\n",
            "Epoch 15/30\n",
            "12/12 [==============================] - 5s 421ms/step - loss: 0.3162 - acc: 0.8584 - val_loss: 0.2614 - val_acc: 0.9464\n",
            "Epoch 16/30\n",
            "12/12 [==============================] - 5s 422ms/step - loss: 0.3363 - acc: 0.8540 - val_loss: 0.2165 - val_acc: 0.8393\n",
            "Epoch 17/30\n",
            "12/12 [==============================] - 5s 418ms/step - loss: 0.2899 - acc: 0.8717 - val_loss: 0.1255 - val_acc: 0.9464\n",
            "Epoch 18/30\n",
            "12/12 [==============================] - 5s 417ms/step - loss: 0.3503 - acc: 0.8628 - val_loss: 0.2076 - val_acc: 0.9286\n",
            "Epoch 19/30\n",
            "12/12 [==============================] - 5s 421ms/step - loss: 0.3070 - acc: 0.8363 - val_loss: 0.4294 - val_acc: 0.7143\n",
            "Epoch 20/30\n",
            "12/12 [==============================] - 5s 419ms/step - loss: 0.3349 - acc: 0.8540 - val_loss: 0.1534 - val_acc: 0.9464\n",
            "Epoch 21/30\n",
            "12/12 [==============================] - 5s 420ms/step - loss: 0.3042 - acc: 0.8894 - val_loss: 0.3311 - val_acc: 0.8929\n",
            "Epoch 22/30\n",
            "12/12 [==============================] - 5s 421ms/step - loss: 0.2815 - acc: 0.9027 - val_loss: 0.1635 - val_acc: 0.9464\n",
            "Epoch 23/30\n",
            "12/12 [==============================] - 5s 418ms/step - loss: 0.3079 - acc: 0.8628 - val_loss: 0.2127 - val_acc: 0.9643\n",
            "Epoch 24/30\n",
            "12/12 [==============================] - 5s 420ms/step - loss: 0.2789 - acc: 0.8673 - val_loss: 0.2258 - val_acc: 0.9464\n",
            "Epoch 25/30\n",
            "12/12 [==============================] - 5s 417ms/step - loss: 0.2144 - acc: 0.9115 - val_loss: 0.2899 - val_acc: 0.8214\n",
            "Epoch 26/30\n",
            "12/12 [==============================] - 5s 418ms/step - loss: 0.3784 - acc: 0.8496 - val_loss: 0.1944 - val_acc: 0.9464\n",
            "Epoch 27/30\n",
            "12/12 [==============================] - 5s 414ms/step - loss: 0.2757 - acc: 0.9159 - val_loss: 0.1267 - val_acc: 0.8750\n",
            "Epoch 28/30\n",
            "12/12 [==============================] - 5s 421ms/step - loss: 0.2644 - acc: 0.8717 - val_loss: 0.1188 - val_acc: 0.9643\n",
            "Epoch 29/30\n",
            "12/12 [==============================] - 5s 419ms/step - loss: 0.2170 - acc: 0.9248 - val_loss: 0.2222 - val_acc: 0.9643\n",
            "Epoch 30/30\n",
            "12/12 [==============================] - 5s 416ms/step - loss: 0.2393 - acc: 0.9071 - val_loss: 0.1174 - val_acc: 0.9464\n"
          ],
          "name": "stdout"
        }
      ]
    },
    {
      "cell_type": "markdown",
      "metadata": {
        "id": "4uh0cXFykZs2",
        "colab_type": "text"
      },
      "source": [
        "* Veri seti büyütme yöntemi ile elde ettiğimiz değişikliği görmek için yeniden görselleştirdim."
      ]
    },
    {
      "cell_type": "code",
      "metadata": {
        "id": "AsDTDQxGjDCe",
        "colab_type": "code",
        "colab": {
          "base_uri": "https://localhost:8080/",
          "height": 545
        },
        "outputId": "ed7bfd4d-5c8f-4a51-eaa6-af9e83e6fd60"
      },
      "source": [
        "import matplotlib.pyplot as plt\n",
        "acc = history.history['acc']\n",
        "val_acc = history.history['val_acc']\n",
        "loss = history.history['loss']\n",
        "val_loss = history.history['val_loss']\n",
        "epochs = range(len(acc))\n",
        "plt.plot(epochs, acc, 'bo', label='Eğitim başarımı')\n",
        "plt.plot(epochs, val_acc, 'b', label='Validasyon başarımı')\n",
        "plt.title('Eğitim ve validasyon başarımı')\n",
        "plt.legend()\n",
        "plt.figure()\n",
        "plt.plot(epochs, loss, 'bo', label='Eğitim kaybı')\n",
        "plt.plot(epochs, val_loss, 'b', label='Validasyon kaybı')\n",
        "plt.title('Eğitim ve validasyon kaybı')\n",
        "plt.legend()\n",
        "plt.show()"
      ],
      "execution_count": 14,
      "outputs": [
        {
          "output_type": "display_data",
          "data": {
            "image/png": "[encoded data removed]",
            "text/plain": [
              "<Figure size 432x288 with 1 Axes>"
            ]
          },
          "metadata": {
            "tags": [],
            "needs_background": "light"
          }
        },
        {
          "output_type": "display_data",
          "data": {
            "image/png": "[encoded data removed]",
            "text/plain": [
              "<Figure size 432x288 with 1 Axes>"
            ]
          },
          "metadata": {
            "tags": [],
            "needs_background": "light"
          }
        }
      ]
    },
    {
      "cell_type": "markdown",
      "metadata": {
        "id": "aSv5X-jZlHVZ",
        "colab_type": "text"
      },
      "source": [
        "* bir eğitimin başarısını eğitim ve validasyon değerlerinin birbirine yakın oluşu ile ölçeriz. veri seti büyütme yöntemsiz olan eğitimimizde eğitim başarımı yüksekken validasyon başarımı yüksek değildi. Aynı zamanda eğitim lossu düşükken validasyon lossu aynı oranda düşük değildi.\n",
        "* Veri seti büyütme yönteminde ise eğitim ve validasyon değerleri sürekli olarak birbirlerine yakındı. Bu eğitimimizin iyi olduğunu overfit etmediğini gösterir. "
      ]
    },
    {
      "cell_type": "markdown",
      "metadata": {
        "id": "2BwS1iRylwhc",
        "colab_type": "text"
      },
      "source": [
        "# **ÜÇÜNCÜ ADIM: Dropout  ile deney tekrarı**\n",
        "* Aynı modelimize dropout ekleyerek modelin başarımındaki değişimi gözlemleyeceğim.\n",
        "* Dropout flattenden sonra kullanılarak belirttiğimiz %50 oranında rastgele düğümleri kapatarak overfit sorununu çözmemize yardımcı olur."
      ]
    },
    {
      "cell_type": "code",
      "metadata": {
        "id": "1it1vsNfkacH",
        "colab_type": "code",
        "colab": {}
      },
      "source": [
        "from keras import layers\n",
        "from keras import models\n",
        "model = models.Sequential()\n",
        "model.add(layers.Conv2D(16, (3, 3), strides=(2, 2), activation='relu', padding=\"same\", input_shape=(300, 300, 3)))\n",
        "model.add(layers.MaxPooling2D((2, 2)))\n",
        "model.add(layers.Conv2D(32, (3, 3), strides=(2, 2), padding=\"same\", activation='relu'))\n",
        "model.add(layers.MaxPooling2D((2, 2)))\n",
        "model.add(layers.Conv2D(64, (3, 3), strides=(2, 2), padding=\"same\", activation='relu'))\n",
        "model.add(layers.MaxPooling2D((2, 2)))\n",
        "model.add(layers.Conv2D(128, (3, 3), strides=(2, 2), padding=\"same\", activation='relu'))\n",
        "model.add(layers.MaxPooling2D((2, 2)))\n",
        "model.add(layers.Flatten())\n",
        "model.add(layers.Dropout(0.5))\n",
        "model.add(layers.Dense(512, activation='relu'))\n",
        "model.add(layers.Dense(1, activation='sigmoid'))"
      ],
      "execution_count": 0,
      "outputs": []
    },
    {
      "cell_type": "markdown",
      "metadata": {
        "id": "DQnLlvrCnD6S",
        "colab_type": "text"
      },
      "source": [
        "* Modelim için kullandığımız fonksiyonları aynı şekilde belirttim."
      ]
    },
    {
      "cell_type": "code",
      "metadata": {
        "id": "ay9v14Kym-O2",
        "colab_type": "code",
        "colab": {}
      },
      "source": [
        "from keras import optimizers\n",
        "model.compile(loss='binary_crossentropy', optimizer=optimizers.RMSprop(lr=0.001), metrics=['acc'])"
      ],
      "execution_count": 0,
      "outputs": []
    },
    {
      "cell_type": "markdown",
      "metadata": {
        "id": "59F3jxGgnOk4",
        "colab_type": "text"
      },
      "source": [
        "* Dropoutlu modeli eğitiyorum."
      ]
    },
    {
      "cell_type": "code",
      "metadata": {
        "id": "Jzan3bHxnNaM",
        "colab_type": "code",
        "colab": {
          "base_uri": "https://localhost:8080/",
          "height": 1000
        },
        "outputId": "9963d72d-b41d-4f18-9f2e-d4c0ac77497f"
      },
      "source": [
        "history = model.fit_generator(\n",
        "      train_generator,\n",
        "      epochs=30,\n",
        "      validation_data=validation_generator)"
      ],
      "execution_count": 17,
      "outputs": [
        {
          "output_type": "stream",
          "text": [
            "Epoch 1/30\n",
            "12/12 [==============================] - 5s 426ms/step - loss: 0.6443 - acc: 0.6239 - val_loss: 1.1063 - val_acc: 0.5000\n",
            "Epoch 2/30\n",
            "12/12 [==============================] - 5s 418ms/step - loss: 0.5231 - acc: 0.7522 - val_loss: 0.3297 - val_acc: 0.8571\n",
            "Epoch 3/30\n",
            "12/12 [==============================] - 5s 422ms/step - loss: 0.4270 - acc: 0.8319 - val_loss: 0.4491 - val_acc: 0.8750\n",
            "Epoch 4/30\n",
            "12/12 [==============================] - 5s 417ms/step - loss: 0.4326 - acc: 0.8097 - val_loss: 0.3683 - val_acc: 0.8750\n",
            "Epoch 5/30\n",
            "12/12 [==============================] - 5s 423ms/step - loss: 0.3628 - acc: 0.8407 - val_loss: 0.2880 - val_acc: 0.8571\n",
            "Epoch 6/30\n",
            "12/12 [==============================] - 5s 419ms/step - loss: 0.5190 - acc: 0.8009 - val_loss: 0.2280 - val_acc: 0.8750\n",
            "Epoch 7/30\n",
            "12/12 [==============================] - 5s 420ms/step - loss: 0.3844 - acc: 0.8363 - val_loss: 0.1828 - val_acc: 0.8750\n",
            "Epoch 8/30\n",
            "12/12 [==============================] - 5s 417ms/step - loss: 0.3701 - acc: 0.8363 - val_loss: 0.1962 - val_acc: 0.8929\n",
            "Epoch 9/30\n",
            "12/12 [==============================] - 5s 418ms/step - loss: 0.3465 - acc: 0.8407 - val_loss: 0.1826 - val_acc: 0.8393\n",
            "Epoch 10/30\n",
            "12/12 [==============================] - 5s 417ms/step - loss: 0.3782 - acc: 0.8496 - val_loss: 0.2405 - val_acc: 0.9286\n",
            "Epoch 11/30\n",
            "12/12 [==============================] - 5s 422ms/step - loss: 0.3430 - acc: 0.8894 - val_loss: 0.2644 - val_acc: 0.8750\n",
            "Epoch 12/30\n",
            "12/12 [==============================] - 5s 419ms/step - loss: 0.3472 - acc: 0.8717 - val_loss: 0.3177 - val_acc: 0.9464\n",
            "Epoch 13/30\n",
            "12/12 [==============================] - 5s 419ms/step - loss: 0.3036 - acc: 0.8805 - val_loss: 0.1789 - val_acc: 0.9464\n",
            "Epoch 14/30\n",
            "12/12 [==============================] - 5s 418ms/step - loss: 0.2996 - acc: 0.8850 - val_loss: 0.2735 - val_acc: 0.8571\n",
            "Epoch 15/30\n",
            "12/12 [==============================] - 5s 422ms/step - loss: 0.3994 - acc: 0.8894 - val_loss: 0.0787 - val_acc: 0.9286\n",
            "Epoch 16/30\n",
            "12/12 [==============================] - 5s 421ms/step - loss: 0.2892 - acc: 0.9159 - val_loss: 0.1500 - val_acc: 0.9107\n",
            "Epoch 17/30\n",
            "12/12 [==============================] - 5s 422ms/step - loss: 0.2921 - acc: 0.8805 - val_loss: 0.2141 - val_acc: 0.9107\n",
            "Epoch 18/30\n",
            "12/12 [==============================] - 5s 422ms/step - loss: 0.2711 - acc: 0.9071 - val_loss: 0.1676 - val_acc: 0.9464\n",
            "Epoch 19/30\n",
            "12/12 [==============================] - 5s 423ms/step - loss: 0.2971 - acc: 0.8761 - val_loss: 0.1050 - val_acc: 0.9107\n",
            "Epoch 20/30\n",
            "12/12 [==============================] - 5s 437ms/step - loss: 0.2512 - acc: 0.8938 - val_loss: 0.3257 - val_acc: 0.9107\n",
            "Epoch 21/30\n",
            "12/12 [==============================] - 5s 436ms/step - loss: 0.2679 - acc: 0.8938 - val_loss: 0.1404 - val_acc: 0.9464\n",
            "Epoch 22/30\n",
            "12/12 [==============================] - 5s 419ms/step - loss: 0.2494 - acc: 0.8894 - val_loss: 0.2585 - val_acc: 0.8750\n",
            "Epoch 23/30\n",
            "12/12 [==============================] - 5s 420ms/step - loss: 0.2950 - acc: 0.8938 - val_loss: 0.0691 - val_acc: 0.8929\n",
            "Epoch 24/30\n",
            "12/12 [==============================] - 5s 423ms/step - loss: 0.2503 - acc: 0.9071 - val_loss: 0.1482 - val_acc: 0.8929\n",
            "Epoch 25/30\n",
            "12/12 [==============================] - 5s 420ms/step - loss: 0.2531 - acc: 0.9159 - val_loss: 0.4100 - val_acc: 0.8750\n",
            "Epoch 26/30\n",
            "12/12 [==============================] - 5s 419ms/step - loss: 0.2647 - acc: 0.9381 - val_loss: 0.2537 - val_acc: 0.9286\n",
            "Epoch 27/30\n",
            "12/12 [==============================] - 5s 419ms/step - loss: 0.3362 - acc: 0.8717 - val_loss: 0.2169 - val_acc: 0.9286\n",
            "Epoch 28/30\n",
            "12/12 [==============================] - 5s 418ms/step - loss: 0.3018 - acc: 0.8717 - val_loss: 0.1167 - val_acc: 0.9464\n",
            "Epoch 29/30\n",
            "12/12 [==============================] - 5s 419ms/step - loss: 0.1879 - acc: 0.9292 - val_loss: 0.1574 - val_acc: 0.8750\n",
            "Epoch 30/30\n",
            "12/12 [==============================] - 5s 422ms/step - loss: 0.2594 - acc: 0.9071 - val_loss: 0.3001 - val_acc: 0.8750\n"
          ],
          "name": "stdout"
        }
      ]
    },
    {
      "cell_type": "markdown",
      "metadata": {
        "id": "X2P9l-pRnjoQ",
        "colab_type": "text"
      },
      "source": [
        "* Dropoutun etkisini görmek için görselleştirmeyi yeniden gerçekleştirdim."
      ]
    },
    {
      "cell_type": "code",
      "metadata": {
        "id": "z9TkmZu_nZog",
        "colab_type": "code",
        "colab": {
          "base_uri": "https://localhost:8080/",
          "height": 545
        },
        "outputId": "609a0ea7-f3fd-4a48-cb28-28c970ec2d7a"
      },
      "source": [
        "import matplotlib.pyplot as plt\n",
        "acc = history.history['acc']\n",
        "val_acc = history.history['val_acc']\n",
        "loss = history.history['loss']\n",
        "val_loss = history.history['val_loss']\n",
        "epochs = range(len(acc))\n",
        "plt.plot(epochs, acc, 'bo', label='Eğitim başarımı')\n",
        "plt.plot(epochs, val_acc, 'b', label='Validasyon başarımı')\n",
        "plt.title('Eğitim ve validasyon başarımı')\n",
        "plt.legend()\n",
        "plt.figure()\n",
        "plt.plot(epochs, loss, 'bo', label='Eğitim kaybı')\n",
        "plt.plot(epochs, val_loss, 'b', label='Validasyon kaybı')\n",
        "plt.title('Eğitim ve validasyon kaybı')\n",
        "plt.legend()\n",
        "plt.show()"
      ],
      "execution_count": 18,
      "outputs": [
        {
          "output_type": "display_data",
          "data": {
            "image/png": "[encoded data removed]",
            "text/plain": [
              "<Figure size 432x288 with 1 Axes>"
            ]
          },
          "metadata": {
            "tags": [],
            "needs_background": "light"
          }
        },
        {
          "output_type": "display_data",
          "data": {
            "image/png": "[encoded data removed]",
            "text/plain": [
              "<Figure size 432x288 with 1 Axes>"
            ]
          },
          "metadata": {
            "tags": [],
            "needs_background": "light"
          }
        }
      ]
    },
    {
      "cell_type": "markdown",
      "metadata": {
        "id": "KibpxK4loHMR",
        "colab_type": "text"
      },
      "source": [
        "* Dropoutu eklemek eğitim ve validasyon değerlerini birbirine daha çok yaklaştırdı. Yani istediğimiz gibi ezberi engellemekte bize yardımcı oldu."
      ]
    },
    {
      "cell_type": "markdown",
      "metadata": {
        "id": "xweNLk03pcuz",
        "colab_type": "text"
      },
      "source": [
        "**DÖRDÜNCÜ ADIM: Epoch Ayarı**\n",
        "* İncelediğim son görselleştirmede bir overfit noktası gözlemlenmiyor. Epoch sayısı arttırılarak daha yüksek bir başarım elde edilebileceğini gözlemlemekteyim. Epoch sayısını 40 yaparak başarımın daha artıp artmayacağını gözlemleyeceğim.\n",
        "* Modelin ağırlıklarını eğitim öncesi haline getirmek için aynı şekilde oluşturdum."
      ]
    },
    {
      "cell_type": "code",
      "metadata": {
        "id": "C-8bNJQ2oAHZ",
        "colab_type": "code",
        "colab": {}
      },
      "source": [
        "from keras import layers\n",
        "from keras import models\n",
        "model = models.Sequential()\n",
        "model.add(layers.Conv2D(16, (3, 3), strides=(2, 2), activation='relu', padding=\"same\", input_shape=(300, 300, 3)))\n",
        "model.add(layers.MaxPooling2D((2, 2)))\n",
        "model.add(layers.Conv2D(32, (3, 3), strides=(2, 2), padding=\"same\", activation='relu'))\n",
        "model.add(layers.MaxPooling2D((2, 2)))\n",
        "model.add(layers.Conv2D(64, (3, 3), strides=(2, 2), padding=\"same\", activation='relu'))\n",
        "model.add(layers.MaxPooling2D((2, 2)))\n",
        "model.add(layers.Conv2D(128, (3, 3), strides=(2, 2), padding=\"same\", activation='relu'))\n",
        "model.add(layers.MaxPooling2D((2, 2)))\n",
        "model.add(layers.Flatten())\n",
        "model.add(layers.Dropout(0.5))\n",
        "model.add(layers.Dense(512, activation='relu'))\n",
        "model.add(layers.Dense(1, activation='sigmoid'))"
      ],
      "execution_count": 0,
      "outputs": []
    },
    {
      "cell_type": "markdown",
      "metadata": {
        "colab_type": "text",
        "id": "_Gj7fez1p3lu"
      },
      "source": [
        "* Modelim için kullandığımız fonksiyonları aynı şekilde belirttim."
      ]
    },
    {
      "cell_type": "code",
      "metadata": {
        "id": "Y0O_D8rMpdhL",
        "colab_type": "code",
        "colab": {}
      },
      "source": [
        "from keras import optimizers\n",
        "model.compile(loss='binary_crossentropy', optimizer=optimizers.RMSprop(lr=0.001), metrics=['acc'])"
      ],
      "execution_count": 0,
      "outputs": []
    },
    {
      "cell_type": "markdown",
      "metadata": {
        "id": "7KSvbR1HqLCD",
        "colab_type": "text"
      },
      "source": [
        "* 40 epochta eğitimi gerçekleştirdim."
      ]
    },
    {
      "cell_type": "code",
      "metadata": {
        "id": "bywLvf77qJQv",
        "colab_type": "code",
        "colab": {
          "base_uri": "https://localhost:8080/",
          "height": 1000
        },
        "outputId": "df8eef2c-cdd8-4863-9eb2-b0b2b96ba99e"
      },
      "source": [
        "history = model.fit_generator(\n",
        "      train_generator,\n",
        "      epochs=40,\n",
        "      validation_data=validation_generator)"
      ],
      "execution_count": 22,
      "outputs": [
        {
          "output_type": "stream",
          "text": [
            "Epoch 1/40\n",
            "12/12 [==============================] - 5s 423ms/step - loss: 0.7282 - acc: 0.5133 - val_loss: 0.6753 - val_acc: 0.6786\n",
            "Epoch 2/40\n",
            "12/12 [==============================] - 5s 414ms/step - loss: 0.6912 - acc: 0.5398 - val_loss: 0.6588 - val_acc: 0.8571\n",
            "Epoch 3/40\n",
            "12/12 [==============================] - 5s 418ms/step - loss: 0.6418 - acc: 0.6726 - val_loss: 0.5696 - val_acc: 0.6607\n",
            "Epoch 4/40\n",
            "12/12 [==============================] - 5s 417ms/step - loss: 0.5447 - acc: 0.7434 - val_loss: 0.3999 - val_acc: 0.8750\n",
            "Epoch 5/40\n",
            "12/12 [==============================] - 5s 421ms/step - loss: 0.4537 - acc: 0.7965 - val_loss: 0.3157 - val_acc: 0.8393\n",
            "Epoch 6/40\n",
            "12/12 [==============================] - 5s 417ms/step - loss: 0.5178 - acc: 0.8097 - val_loss: 0.3568 - val_acc: 0.7857\n",
            "Epoch 7/40\n",
            "12/12 [==============================] - 5s 419ms/step - loss: 0.3857 - acc: 0.8319 - val_loss: 0.2401 - val_acc: 0.8750\n",
            "Epoch 8/40\n",
            "12/12 [==============================] - 5s 414ms/step - loss: 0.4749 - acc: 0.8097 - val_loss: 0.1307 - val_acc: 0.8393\n",
            "Epoch 9/40\n",
            "12/12 [==============================] - 5s 420ms/step - loss: 0.3443 - acc: 0.8540 - val_loss: 0.2378 - val_acc: 0.8750\n",
            "Epoch 10/40\n",
            "12/12 [==============================] - 5s 419ms/step - loss: 0.3733 - acc: 0.8805 - val_loss: 0.3486 - val_acc: 0.9286\n",
            "Epoch 11/40\n",
            "12/12 [==============================] - 5s 416ms/step - loss: 0.3815 - acc: 0.8451 - val_loss: 1.0462 - val_acc: 0.5179\n",
            "Epoch 12/40\n",
            "12/12 [==============================] - 5s 421ms/step - loss: 0.4098 - acc: 0.8186 - val_loss: 0.1949 - val_acc: 0.9286\n",
            "Epoch 13/40\n",
            "12/12 [==============================] - 5s 419ms/step - loss: 0.3154 - acc: 0.8673 - val_loss: 0.2576 - val_acc: 0.9286\n",
            "Epoch 14/40\n",
            "12/12 [==============================] - 5s 416ms/step - loss: 0.3455 - acc: 0.8673 - val_loss: 0.1726 - val_acc: 0.9643\n",
            "Epoch 15/40\n",
            "12/12 [==============================] - 5s 419ms/step - loss: 0.3405 - acc: 0.8540 - val_loss: 0.1152 - val_acc: 0.9286\n",
            "Epoch 16/40\n",
            "12/12 [==============================] - 5s 417ms/step - loss: 0.3038 - acc: 0.8894 - val_loss: 0.2322 - val_acc: 0.9464\n",
            "Epoch 17/40\n",
            "12/12 [==============================] - 5s 422ms/step - loss: 0.2967 - acc: 0.8938 - val_loss: 0.2593 - val_acc: 0.8393\n",
            "Epoch 18/40\n",
            "12/12 [==============================] - 5s 419ms/step - loss: 0.3358 - acc: 0.8628 - val_loss: 0.3207 - val_acc: 0.7857\n",
            "Epoch 19/40\n",
            "12/12 [==============================] - 5s 416ms/step - loss: 0.3379 - acc: 0.8850 - val_loss: 0.2763 - val_acc: 0.9286\n",
            "Epoch 20/40\n",
            "12/12 [==============================] - 5s 414ms/step - loss: 0.2938 - acc: 0.8894 - val_loss: 0.1380 - val_acc: 0.9643\n",
            "Epoch 21/40\n",
            "12/12 [==============================] - 5s 416ms/step - loss: 0.3044 - acc: 0.8673 - val_loss: 0.1274 - val_acc: 1.0000\n",
            "Epoch 22/40\n",
            "12/12 [==============================] - 5s 420ms/step - loss: 0.3943 - acc: 0.8628 - val_loss: 0.1074 - val_acc: 0.9464\n",
            "Epoch 23/40\n",
            "12/12 [==============================] - 5s 418ms/step - loss: 0.2468 - acc: 0.8982 - val_loss: 0.4033 - val_acc: 0.8750\n",
            "Epoch 24/40\n",
            "12/12 [==============================] - 5s 424ms/step - loss: 0.2441 - acc: 0.8717 - val_loss: 0.1753 - val_acc: 0.8571\n",
            "Epoch 25/40\n",
            "12/12 [==============================] - 5s 426ms/step - loss: 0.2736 - acc: 0.9027 - val_loss: 0.0961 - val_acc: 0.9464\n",
            "Epoch 26/40\n",
            "12/12 [==============================] - 5s 419ms/step - loss: 0.2758 - acc: 0.9027 - val_loss: 0.2010 - val_acc: 0.8929\n",
            "Epoch 27/40\n",
            "12/12 [==============================] - 5s 417ms/step - loss: 0.2231 - acc: 0.8938 - val_loss: 0.3841 - val_acc: 0.8571\n",
            "Epoch 28/40\n",
            "12/12 [==============================] - 5s 418ms/step - loss: 0.2313 - acc: 0.8805 - val_loss: 0.2723 - val_acc: 0.8571\n",
            "Epoch 29/40\n",
            "12/12 [==============================] - 5s 418ms/step - loss: 0.2602 - acc: 0.8805 - val_loss: 0.0971 - val_acc: 0.9286\n",
            "Epoch 30/40\n",
            "12/12 [==============================] - 5s 417ms/step - loss: 0.2753 - acc: 0.9027 - val_loss: 0.1345 - val_acc: 0.9464\n",
            "Epoch 31/40\n",
            "12/12 [==============================] - 5s 418ms/step - loss: 0.2803 - acc: 0.8894 - val_loss: 0.1307 - val_acc: 0.9643\n",
            "Epoch 32/40\n",
            "12/12 [==============================] - 5s 415ms/step - loss: 0.2528 - acc: 0.9159 - val_loss: 0.3113 - val_acc: 0.9286\n",
            "Epoch 33/40\n",
            "12/12 [==============================] - 5s 418ms/step - loss: 0.1962 - acc: 0.9204 - val_loss: 0.0565 - val_acc: 1.0000\n",
            "Epoch 34/40\n",
            "12/12 [==============================] - 5s 417ms/step - loss: 0.2445 - acc: 0.9204 - val_loss: 0.2552 - val_acc: 0.9107\n",
            "Epoch 35/40\n",
            "12/12 [==============================] - 5s 419ms/step - loss: 0.2228 - acc: 0.9115 - val_loss: 0.1930 - val_acc: 0.8929\n",
            "Epoch 36/40\n",
            "12/12 [==============================] - 5s 422ms/step - loss: 0.2445 - acc: 0.9027 - val_loss: 0.1046 - val_acc: 0.9464\n",
            "Epoch 37/40\n",
            "12/12 [==============================] - 5s 416ms/step - loss: 0.2172 - acc: 0.8982 - val_loss: 0.0810 - val_acc: 0.9464\n",
            "Epoch 38/40\n",
            "12/12 [==============================] - 5s 416ms/step - loss: 0.2091 - acc: 0.9248 - val_loss: 0.1081 - val_acc: 0.9286\n",
            "Epoch 39/40\n",
            "12/12 [==============================] - 5s 421ms/step - loss: 0.2410 - acc: 0.9292 - val_loss: 0.2148 - val_acc: 0.9107\n",
            "Epoch 40/40\n",
            "12/12 [==============================] - 5s 415ms/step - loss: 0.2097 - acc: 0.9248 - val_loss: 0.0529 - val_acc: 0.9286\n"
          ],
          "name": "stdout"
        }
      ]
    },
    {
      "cell_type": "markdown",
      "metadata": {
        "id": "zIPERKnerGvg",
        "colab_type": "text"
      },
      "source": [
        "* 40 epochlı eğitim ile sonuçları görselleştirelim."
      ]
    },
    {
      "cell_type": "code",
      "metadata": {
        "id": "rLvSZB8QqTMe",
        "colab_type": "code",
        "colab": {
          "base_uri": "https://localhost:8080/",
          "height": 545
        },
        "outputId": "c04907a4-6b69-40ea-e448-2e03c2d1fa79"
      },
      "source": [
        "import matplotlib.pyplot as plt\n",
        "acc = history.history['acc']\n",
        "val_acc = history.history['val_acc']\n",
        "loss = history.history['loss']\n",
        "val_loss = history.history['val_loss']\n",
        "epochs = range(len(acc))\n",
        "plt.plot(epochs, acc, 'bo', label='Eğitim başarımı')\n",
        "plt.plot(epochs, val_acc, 'b', label='Validasyon başarımı')\n",
        "plt.title('Eğitim ve validasyon başarımı')\n",
        "plt.legend()\n",
        "plt.figure()\n",
        "plt.plot(epochs, loss, 'bo', label='Eğitim kaybı')\n",
        "plt.plot(epochs, val_loss, 'b', label='Validasyon kaybı')\n",
        "plt.title('Eğitim ve validasyon kaybı')\n",
        "plt.legend()\n",
        "plt.show()"
      ],
      "execution_count": 23,
      "outputs": [
        {
          "output_type": "display_data",
          "data": {
            "image/png": "[encoded data removed]",
            "text/plain": [
              "<Figure size 432x288 with 1 Axes>"
            ]
          },
          "metadata": {
            "tags": [],
            "needs_background": "light"
          }
        },
        {
          "output_type": "display_data",
          "data": {
            "image/png": "[encoded data removed]",
            "text/plain": [
              "<Figure size 432x288 with 1 Axes>"
            ]
          },
          "metadata": {
            "tags": [],
            "needs_background": "light"
          }
        }
      ]
    },
    {
      "cell_type": "markdown",
      "metadata": {
        "id": "r6Bi5u-3r7_N",
        "colab_type": "text"
      },
      "source": [
        "* 40 epochlı eğittiğimde çok fazla bir artış göremedim. Ancak yine de 30 epochtan biraz daha yüksek eğitim başarımı çıktı. Overfit hala gözlemleyememekteyim. "
      ]
    },
    {
      "cell_type": "markdown",
      "metadata": {
        "id": "sTeIiVAssjn5",
        "colab_type": "text"
      },
      "source": [
        "* Son olarak ayırdığım test verileri ile modeldeki %lik başarımımı ölçtüm."
      ]
    },
    {
      "cell_type": "code",
      "metadata": {
        "id": "sug_9vX7siHj",
        "colab_type": "code",
        "colab": {
          "base_uri": "https://localhost:8080/",
          "height": 34
        },
        "outputId": "1faa0fea-b2ef-46fc-9b91-784cdc0a3892"
      },
      "source": [
        "test_datagen = ImageDataGenerator(rescale=1./255)\n",
        "test_generator = test_datagen.flow_from_directory(\n",
        "        test_dir,\n",
        "        batch_size=20,\n",
        "        target_size=(300, 300),\n",
        "        class_mode='binary')"
      ],
      "execution_count": 27,
      "outputs": [
        {
          "output_type": "stream",
          "text": [
            "Found 20 images belonging to 2 classes.\n"
          ],
          "name": "stdout"
        }
      ]
    },
    {
      "cell_type": "code",
      "metadata": {
        "id": "Iap5-ka_toE_",
        "colab_type": "code",
        "colab": {}
      },
      "source": [
        "kayip, basarim = model.evaluate_generator(test_generator)"
      ],
      "execution_count": 0,
      "outputs": []
    },
    {
      "cell_type": "code",
      "metadata": {
        "id": "rSq0RzfKty7w",
        "colab_type": "code",
        "colab": {
          "base_uri": "https://localhost:8080/",
          "height": 51
        },
        "outputId": "fb6108c8-ab11-48f7-c78a-a289bcad1033"
      },
      "source": [
        "print(\"Başarım % :\", basarim*100)\n",
        "print(\"Kayıp % :\", kayip*100)"
      ],
      "execution_count": 33,
      "outputs": [
        {
          "output_type": "stream",
          "text": [
            "Başarım % : 80.0000011920929\n",
            "Kayıp % : 57.0702850818634\n"
          ],
          "name": "stdout"
        }
      ]
    },
    {
      "cell_type": "code",
      "metadata": {
        "id": "_Gb03qIQt2iD",
        "colab_type": "code",
        "colab": {}
      },
      "source": [
        ""
      ],
      "execution_count": 0,
      "outputs": []
    }
  ]
}